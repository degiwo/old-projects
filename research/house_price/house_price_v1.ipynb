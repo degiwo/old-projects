{
 "cells": [
  {
   "cell_type": "code",
   "execution_count": 1,
   "metadata": {},
   "outputs": [],
   "source": [
    "from sklearn.model_selection import train_test_split\n",
    "from sklearn.linear_model import LinearRegression\n",
    "from sklearn.pipeline import Pipeline\n",
    "\n",
    "import matplotlib.pyplot as plt\n",
    "\n",
    "from house_config import TARGET_VARIABLE\n",
    "from house_preprocessing import (\n",
    "    read_original_data,\n",
    "    select_numeric_features,\n",
    "    check_missing_values,\n",
    "    check_train_test_data\n",
    ")"
   ]
  },
  {
   "cell_type": "code",
   "execution_count": 2,
   "metadata": {},
   "outputs": [
    {
     "name": "stdout",
     "output_type": "stream",
     "text": [
      "Rows: 1460, Columns: 81\n",
      "Rows: 1460, Columns: 33\n",
      "No Missing values.\n",
      "X_train and X_test are ready for modeling.\n"
     ]
    }
   ],
   "source": [
    "## Data pipeline\n",
    "original_data = read_original_data()\n",
    "numeric_data = select_numeric_features(original_data)\n",
    "check_missing_values(numeric_data)\n",
    "\n",
    "target_data = original_data[TARGET_VARIABLE]\n",
    "\n",
    "X_train, X_test, y_train, y_test = train_test_split(\n",
    "    numeric_data,\n",
    "    target_data,\n",
    "    test_size=0.2,\n",
    "    random_state=42\n",
    ")\n",
    "check_train_test_data(X_train, X_test)"
   ]
  },
  {
   "cell_type": "code",
   "execution_count": 3,
   "metadata": {},
   "outputs": [
    {
     "data": {
      "text/plain": [
       "Pipeline(steps=[('linreg', LinearRegression())])"
      ]
     },
     "execution_count": 3,
     "metadata": {},
     "output_type": "execute_result"
    }
   ],
   "source": [
    "## Model training as pipeline\n",
    "pipe = Pipeline([\n",
    "    (\"linreg\", LinearRegression())\n",
    "])\n",
    "pipe.fit(X_train, y_train)"
   ]
  },
  {
   "cell_type": "code",
   "execution_count": 4,
   "metadata": {},
   "outputs": [
    {
     "name": "stdout",
     "output_type": "stream",
     "text": [
      "Model train accuracy: 0.8034289860818126\n",
      "Model test accuracy: 0.8184946026286619\n"
     ]
    },
    {
     "data": {
      "image/png": "[encoded data removed]",
      "text/plain": [
       "<Figure size 432x288 with 1 Axes>"
      ]
     },
     "metadata": {
      "needs_background": "light"
     },
     "output_type": "display_data"
    }
   ],
   "source": [
    "## Model evaluation\n",
    "print(f\"Model train accuracy: {pipe.score(X_train, y_train)}\")\n",
    "print(f\"Model test accuracy: {pipe.score(X_test, y_test)}\")\n",
    "\n",
    "plt.scatter(y_test, pipe.predict(X_test))\n",
    "plt.title(\"Test data: Actual Price vs. Predicted Price\")\n",
    "plt.xlabel(\"Actual\")\n",
    "plt.ylabel(\"Predicted\")\n",
    "plt.show()"
   ]
  }
 ],
 "metadata": {
  "interpreter": {
   "hash": "aa61ac13b0863c61c4d3d53e0ec674c0230d035a4ea294bb1fa0bb000528f217"
  },
  "kernelspec": {
   "display_name": "Python 3.8.9 64-bit",
   "name": "python3"
  },
  "language_info": {
   "codemirror_mode": {
    "name": "ipython",
    "version": 3
   },
   "file_extension": ".py",
   "mimetype": "text/x-python",
   "name": "python",
   "nbconvert_exporter": "python",
   "pygments_lexer": "ipython3",
   "version": "3.8.9"
  },
  "orig_nbformat": 4
 },
 "nbformat": 4,
 "nbformat_minor": 2
}
